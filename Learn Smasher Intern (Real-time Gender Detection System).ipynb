{
 "cells": [
  {
   "cell_type": "code",
   "execution_count": 25,
   "id": "9d8ca41c",
   "metadata": {},
   "outputs": [],
   "source": [
    "import pandas as pd\n",
    "from sklearn.feature_extraction.text import CountVectorizer\n",
    "from sklearn.naive_bayes import MultinomialNB\n",
    "from sklearn.model_selection import train_test_split\n",
    "from sklearn.metrics import accuracy_score"
   ]
  },
  {
   "cell_type": "code",
   "execution_count": 26,
   "id": "f4d0e37e",
   "metadata": {},
   "outputs": [],
   "source": [
    "def load_data(encoding='utf-8'):\n",
    "    try:\n",
    "        data = pd.read_csv(\"D:\\Downloads\\Gender_Detection (1).csv\", encoding=encoding)\n",
    "        X = data['Name'].tolist()\n",
    "        y = data['Gender'].tolist()\n",
    "        return X, y\n",
    "    except UnicodeDecodeError:\n",
    "        print(f\"UnicodeDecodeError: Failed to read the file with {encoding} encoding.\")\n",
    "        print(\"Trying another encoding...\")\n",
    "        encodings_to_try = ['utf-8', 'latin-1', 'ISO-8859-1']\n",
    "        for enc in encodings_to_try:\n",
    "            try:\n",
    "                data = pd.read_csv(\"D:\\Downloads\\Gender_Detection (1).csv\", encoding=enc)\n",
    "                X = data['Name'].tolist()\n",
    "                y = data['Gender'].tolist()\n",
    "                print(f\"Successfully read the file with {enc} encoding.\")\n",
    "                return X, y\n",
    "            except UnicodeDecodeError:\n",
    "                print(f\"Failed to read the file with {enc} encoding.\")\n",
    "        raise ValueError(\"Could not read the file with any encoding. Check the file's encoding format.\")\n"
   ]
  },
  {
   "cell_type": "code",
   "execution_count": 27,
   "id": "cb87f987",
   "metadata": {},
   "outputs": [],
   "source": [
    "def train_model(X, y):\n",
    "    vectorizer = CountVectorizer(analyzer='char', ngram_range=(2, 3))\n",
    "    X = vectorizer.fit_transform(X)\n",
    "    model = MultinomialNB()\n",
    "    model.fit(X, y)\n",
    "    return model, vectorizer"
   ]
  },
  {
   "cell_type": "code",
   "execution_count": 28,
   "id": "5410ad05",
   "metadata": {},
   "outputs": [],
   "source": [
    "def predict_name_gender(name, model, vectorizer):\n",
    "    name_vectorized = vectorizer.transform([name])\n",
    "    prediction = model.predict(name_vectorized)\n",
    "    return prediction[0]"
   ]
  },
  {
   "cell_type": "code",
   "execution_count": 29,
   "id": "fee6ba01",
   "metadata": {},
   "outputs": [
    {
     "name": "stdout",
     "output_type": "stream",
     "text": [
      "UnicodeDecodeError: Failed to read the file with utf-8 encoding.\n",
      "Trying another encoding...\n",
      "Failed to read the file with utf-8 encoding.\n",
      "Successfully read the file with latin-1 encoding.\n"
     ]
    }
   ],
   "source": [
    "if __name__ == \"__main__\":\n",
    "    X, y = load_data()\n",
    "    X_train, X_test, y_train, y_test = train_test_split(X, y, test_size=0.2, random_state=42)\n",
    "\n",
    "    model, vectorizer = train_model(X_train, y_train)"
   ]
  },
  {
   "cell_type": "code",
   "execution_count": 30,
   "id": "3b59ad46",
   "metadata": {},
   "outputs": [
    {
     "name": "stdout",
     "output_type": "stream",
     "text": [
      "Model Accuracy: 0.71\n"
     ]
    }
   ],
   "source": [
    "X_test_vectorized = vectorizer.transform(X_test)\n",
    "y_pred = model.predict(X_test_vectorized)\n",
    "accuracy = accuracy_score(y_test, y_pred)\n",
    "print(f\"Model Accuracy: {accuracy:.2f}\")"
   ]
  },
  {
   "cell_type": "code",
   "execution_count": 31,
   "id": "45b8a9c4",
   "metadata": {
    "scrolled": true
   },
   "outputs": [
    {
     "name": "stdout",
     "output_type": "stream",
     "text": [
      "The name John is predicted to be M\n",
      "The name Emily is predicted to be F\n",
      "The name Michael is predicted to be M\n",
      "The name Sophia is predicted to be F\n",
      "The name Alex is predicted to be F\n",
      "The name james is predicted to be M\n"
     ]
    }
   ],
   "source": [
    "names_to_test = [\"John\", \"Emily\", \"Michael\", \"Sophia\", \"Alex\", \"james\"]\n",
    "for name in names_to_test:\n",
    "    predicted_gender = predict_name_gender(name, model, vectorizer)\n",
    "    print(f\"The name {name} is predicted to be {predicted_gender}\")\n"
   ]
  }
 ],
 "metadata": {
  "kernelspec": {
   "display_name": "Python 3 (ipykernel)",
   "language": "python",
   "name": "python3"
  },
  "language_info": {
   "codemirror_mode": {
    "name": "ipython",
    "version": 3
   },
   "file_extension": ".py",
   "mimetype": "text/x-python",
   "name": "python",
   "nbconvert_exporter": "python",
   "pygments_lexer": "ipython3",
   "version": "3.10.9"
  }
 },
 "nbformat": 4,
 "nbformat_minor": 5
}
